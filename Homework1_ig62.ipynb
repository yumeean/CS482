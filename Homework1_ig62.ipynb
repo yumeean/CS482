{
  "nbformat": 4,
  "nbformat_minor": 0,
  "metadata": {
    "colab": {
      "name": "Homework1_ig62.ipynb",
      "provenance": [],
      "collapsed_sections": [],
      "toc_visible": true,
      "authorship_tag": "ABX9TyNLZSSLF+OWVympUT530n8r",
      "include_colab_link": true
    },
    "kernelspec": {
      "name": "python3",
      "display_name": "Python 3"
    },
    "language_info": {
      "name": "python"
    }
  },
  "cells": [
    {
      "cell_type": "markdown",
      "metadata": {
        "id": "view-in-github",
        "colab_type": "text"
      },
      "source": [
        "<a href=\"https://colab.research.google.com/github/yumeean/CS482/blob/main/Homework1_ig62.ipynb\" target=\"_parent\"><img src=\"https://colab.research.google.com/assets/colab-badge.svg\" alt=\"Open In Colab\"/></a>"
      ]
    },
    {
      "cell_type": "markdown",
      "metadata": {
        "id": "huYhPlqMcIZd"
      },
      "source": [
        "#Homework 1\n",
        "#Ian Gabrielle Gojo Cruz\n",
        "#CS 482"
      ]
    },
    {
      "cell_type": "markdown",
      "metadata": {
        "id": "kTNvz-WYatlB"
      },
      "source": [
        "##1)  A data scientist develops a model of the mortality probability distribution function  \n",
        "<p align=\"center\">\n",
        "$p(t) = 3 \\times 10^{-9} t^2(100-t)^2, 0 \\le t \\le 100 ~\\text{years}$  \n",
        "</p>\n",
        "\n",
        "$p(t)$ is 0.0 outside the above range of t.  "
      ]
    },
    {
      "cell_type": "markdown",
      "metadata": {
        "id": "WUPyG2Inb4VV"
      },
      "source": [
        "###a. What is the probability that a person will die between 60 and 70.  \n",
        "  \n",
        "Given : $p(t) = 3 \\;x \\;10^{-9}t^{2}(100 - t)^{2}$, for $0 \\le t \\le 100$ years  \n",
        "\n",
        "Find  : $P(60 \\le t \\le 70)$\n",
        "\n",
        "$\\int_{60}^{70}3 \\;x \\;10^{-9}t^{2}(100 - t)^{2} \\;dt$  "
      ]
    },
    {
      "cell_type": "code",
      "metadata": {
        "colab": {
          "base_uri": "https://localhost:8080/"
        },
        "id": "ML_jNBQVawXK",
        "outputId": "c3ce7762-43d3-4098-fbb2-aabde8c7b888"
      },
      "source": [
        "from scipy.integrate import quad\n",
        "\n",
        "def integrand(t):\n",
        "  return 3*10**(-9)*t**2*(100 - t)**2\n",
        "\n",
        "ans, err = quad(integrand, 60, 70)\n",
        "print(ans)"
      ],
      "execution_count": null,
      "outputs": [
        {
          "output_type": "stream",
          "name": "stdout",
          "text": [
            "0.15436000000000002\n"
          ]
        }
      ]
    },
    {
      "cell_type": "markdown",
      "metadata": {
        "id": "UqKCwe5_a43J"
      },
      "source": [
        "<font color='blue'>Answer:  $\\int_{60}^{70}3 \\;x \\;10^{-9}t^{2}(100 - t)^{2} \\;dt$  = $0.15436$\n",
        "\n",
        "---\n",
        "\n"
      ]
    },
    {
      "cell_type": "markdown",
      "metadata": {
        "id": "btISPWLOa7Ha"
      },
      "source": [
        "###b. What is the probability that a person will die between 60 and 70, given that was alive at 60.  \n",
        "  \n",
        "Find: $P(60 \\le t \\le 70 | 1 - P(0 \\le t \\le 60))$  \n",
        "\n",
        "Finding the probability that the person is alive at age 60 would be:\n",
        "\n",
        "Probability that the person will die from $ 0 \\;to \\;60 $  \n",
        "  \n",
        "$P(0 \\le t \\le 60) = \\int_{0}^{60}3 \\;x \\;10^{-9}t^{2}(100 - t)^{2} \\;dt$"
      ]
    },
    {
      "cell_type": "code",
      "metadata": {
        "colab": {
          "base_uri": "https://localhost:8080/"
        },
        "id": "3l2YOcGea-Bc",
        "outputId": "42dfe608-3003-45ff-aea4-4f527eee0fcc"
      },
      "source": [
        "ans, err = quad(integrand, 0, 60)\n",
        "print(ans)"
      ],
      "execution_count": null,
      "outputs": [
        {
          "output_type": "stream",
          "name": "stdout",
          "text": [
            "0.6825600000000001\n"
          ]
        }
      ]
    },
    {
      "cell_type": "markdown",
      "metadata": {
        "id": "GcdmyLRSa_sL"
      },
      "source": [
        "$P(0 \\le t \\le 60) = 0.68256$  \n",
        "  \n",
        "Meaning, the probability that the person is alive at age 60 would be \n",
        "   \n",
        "$ 1 - 0.68256 = 0.31744$\n",
        "  \n",
        "Conditional Probability:  \n",
        "\n",
        "$P(B|A) = \\frac{P(A \\;\\cap \\;B)}{P(A)}$\n",
        "\n",
        "We have the following:  \n",
        "let &nbsp;$P(B) = P(60 \\le t \\le 70) = 0.15436$  \n",
        "&nbsp; &nbsp; &nbsp; $P(A) = 1 - P(0 \\le t \\le 60) = 0.31744$\n",
        "  \n",
        "then,  \n",
        "\n",
        "$P(B|A) = \\frac{0.15436 \\;x \\;0.31744}{0.31744} = 0.15436$  \n",
        "  \n",
        "<font color='blue'>Answer: $P(60 \\le t \\le 70 | 1 - P(0 \\le t \\le 60)) = 0.15436$ \n"
      ]
    },
    {
      "cell_type": "markdown",
      "metadata": {
        "id": "1nrEsEIDlraD"
      },
      "source": [
        "##2) Three switches connected in parallel operate independently. Each switch remains closed with probability p.\n",
        "\n",
        "![figure 1](https://pantelis.github.io/cs634/docs/common/assignments/probability-assignment/images/probabilistic-switches.png)  "
      ]
    },
    {
      "cell_type": "markdown",
      "metadata": {
        "id": "vWpA8fp0mOAa"
      },
      "source": [
        "### a. Find the probability of receiving an input signal at the output.  \n",
        "  \n",
        "Given: $P(S_1)=P(S_2)=P(S_3)=p$ (switched is closed)  \n",
        "  \n",
        "$ 1 - p $ (switch is open)\n",
        "  \n",
        "Let A = $S_i$ is closed  \n",
        "  \n",
        "Let B = Receiving an input signal at the output \n",
        "   \n",
        "We know that that $S_1, S_2,$ and $S_3$ are all independent meaning:  \n",
        "<p align=\"center\">\n",
        "$P(A_1A_2A_3) = P(A_1)P(A_2)P(A_3)$   \n",
        "</p\n",
        "\n",
        "In order for event B to happen, at least 1 of 3 switches should be closed.  \n",
        "<p align=\"center\">\n",
        "$B = A_1 \\cup A_2 \\cup A_3$\n",
        "</p>\n",
        "$P(B) = P(A_1 \\cup A_2 \\cup A_3)$  \n",
        "\n",
        "$P(B) = 1 - (1-p)^3$  \n",
        "\n",
        "<font color='blue'>Answer: $P(B) = 3p - 3p^2 + p^3$"
      ]
    },
    {
      "cell_type": "markdown",
      "metadata": {
        "id": "iblO0c5VuE_t"
      },
      "source": [
        "### b. Find the probability that switch $S_i$ is open given that an input signal is received at the output.  \n",
        "\n",
        "Given the information above, we need to find  \n",
        "\n",
        "$P(\\overline{A_1}\\;|\\;B) = \\;?$  \n",
        "\n",
        "Using Baye's Theorem,  where $P(A\\;|\\;B) = \\frac{P(B|A)\\;P(A)}{P(B)}$  then,  \n",
        "\n",
        "\n",
        "$P(\\overline{A_1}\\;|\\;B) = \\frac{P(B|\\overline{A_1})\\;P(\\overline{A_1})}{P(B)}$  \n",
        "\n",
        "We also know that $P(B|A_1) = 1$, and  $P(B|\\overline{A_1}) = P(A_2 \\cup A_3) = 2p - p^2$  \n",
        "\n",
        "We can just fill these values in our equation resulting to\n",
        "\n",
        "<font color='blue'>Answer: $P(\\overline{A_1}|B) = \\frac{(2p - p^2)(1 - p)}{3p - 3p^2 + p^3}$"
      ]
    }
  ]
}